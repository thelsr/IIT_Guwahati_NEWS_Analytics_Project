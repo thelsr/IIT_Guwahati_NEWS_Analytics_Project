{
 "cells": [
  {
   "cell_type": "code",
   "execution_count": 2,
   "metadata": {},
   "outputs": [],
   "source": [
    "import pandas as pd"
   ]
  },
  {
   "cell_type": "code",
   "execution_count": 3,
   "metadata": {},
   "outputs": [],
   "source": [
    "df = pd.read_csv(\"./news_scrapper/data.csv\")"
   ]
  },
  {
   "cell_type": "code",
   "execution_count": 4,
   "metadata": {},
   "outputs": [
    {
     "data": {
      "text/html": [
       "<div>\n",
       "<style scoped>\n",
       "    .dataframe tbody tr th:only-of-type {\n",
       "        vertical-align: middle;\n",
       "    }\n",
       "\n",
       "    .dataframe tbody tr th {\n",
       "        vertical-align: top;\n",
       "    }\n",
       "\n",
       "    .dataframe thead th {\n",
       "        text-align: right;\n",
       "    }\n",
       "</style>\n",
       "<table border=\"1\" class=\"dataframe\">\n",
       "  <thead>\n",
       "    <tr style=\"text-align: right;\">\n",
       "      <th></th>\n",
       "      <th>name</th>\n",
       "      <th>time</th>\n",
       "      <th>content</th>\n",
       "    </tr>\n",
       "  </thead>\n",
       "  <tbody>\n",
       "    <tr>\n",
       "      <th>0</th>\n",
       "      <td>Key quotes from Xi Jinping's keynote speech at...</td>\n",
       "      <td>\\n\\n    14:50, 10-Dec-2022\\n\\n</td>\n",
       "      <td>Chinese President Xi Jinping delivered a keyno...</td>\n",
       "    </tr>\n",
       "    <tr>\n",
       "      <th>1</th>\n",
       "      <td>China-Arab relations reaching new milestone in...</td>\n",
       "      <td>\\n\\n    09:06, 10-Dec-2022\\n\\n</td>\n",
       "      <td>Chinese President Xi Jinping on December 9 att...</td>\n",
       "    </tr>\n",
       "    <tr>\n",
       "      <th>2</th>\n",
       "      <td>President Xi returns to China after China-Arab...</td>\n",
       "      <td>\\n\\n    19:45, 10-Dec-2022\\n\\n</td>\n",
       "      <td>Chinese President Xi Jinping departed on Satur...</td>\n",
       "    </tr>\n",
       "    <tr>\n",
       "      <th>3</th>\n",
       "      <td>Ancient tree pollen offers new record of north...</td>\n",
       "      <td>\\n\\n    15:06, 10-Dec-2022\\n\\n</td>\n",
       "      <td>Chinese scientists used ancient tree pollen to...</td>\n",
       "    </tr>\n",
       "    <tr>\n",
       "      <th>4</th>\n",
       "      <td>China-Arab summit carries forward traditional ...</td>\n",
       "      <td>\\n\\n    15:59, 10-Dec-2022\\n\\n</td>\n",
       "      <td>The first China-Arab States Summit was held su...</td>\n",
       "    </tr>\n",
       "  </tbody>\n",
       "</table>\n",
       "</div>"
      ],
      "text/plain": [
       "                                                name  \\\n",
       "0  Key quotes from Xi Jinping's keynote speech at...   \n",
       "1  China-Arab relations reaching new milestone in...   \n",
       "2  President Xi returns to China after China-Arab...   \n",
       "3  Ancient tree pollen offers new record of north...   \n",
       "4  China-Arab summit carries forward traditional ...   \n",
       "\n",
       "                                         time  \\\n",
       "0  \\n\\n    14:50, 10-Dec-2022\\n\\n               \n",
       "1  \\n\\n    09:06, 10-Dec-2022\\n\\n               \n",
       "2  \\n\\n    19:45, 10-Dec-2022\\n\\n               \n",
       "3  \\n\\n    15:06, 10-Dec-2022\\n\\n               \n",
       "4  \\n\\n    15:59, 10-Dec-2022\\n\\n               \n",
       "\n",
       "                                             content  \n",
       "0  Chinese President Xi Jinping delivered a keyno...  \n",
       "1  Chinese President Xi Jinping on December 9 att...  \n",
       "2  Chinese President Xi Jinping departed on Satur...  \n",
       "3  Chinese scientists used ancient tree pollen to...  \n",
       "4  The first China-Arab States Summit was held su...  "
      ]
     },
     "execution_count": 4,
     "metadata": {},
     "output_type": "execute_result"
    }
   ],
   "source": [
    "df.head()"
   ]
  }
 ],
 "metadata": {
  "kernelspec": {
   "display_name": "venv",
   "language": "python",
   "name": "python3"
  },
  "language_info": {
   "codemirror_mode": {
    "name": "ipython",
    "version": 3
   },
   "file_extension": ".py",
   "mimetype": "text/x-python",
   "name": "python",
   "nbconvert_exporter": "python",
   "pygments_lexer": "ipython3",
   "version": "3.9.0 (tags/v3.9.0:9cf6752, Oct  5 2020, 15:34:40) [MSC v.1927 64 bit (AMD64)]"
  },
  "orig_nbformat": 4,
  "vscode": {
   "interpreter": {
    "hash": "62c8718c39abcdc54028ac3bf142c1c991c0218a5dd5c2699e308e5b3dcfafb2"
   }
  }
 },
 "nbformat": 4,
 "nbformat_minor": 2
}
